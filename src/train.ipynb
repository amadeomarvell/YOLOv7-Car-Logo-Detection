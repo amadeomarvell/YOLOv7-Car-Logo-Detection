{
 "cells": [
  {
   "attachments": {},
   "cell_type": "markdown",
   "metadata": {},
   "source": [
    "# Clone the repo\n",
    "Get the repo and submodules"
   ]
  },
  {
   "cell_type": "code",
   "execution_count": null,
   "metadata": {},
   "outputs": [],
   "source": [
    "!git clone https://github.com/amadeomarvell/YOLOv7-Car-Logo-Detection.git"
   ]
  },
  {
   "attachments": {},
   "cell_type": "markdown",
   "metadata": {},
   "source": [
    "Install the necessary packages."
   ]
  },
  {
   "cell_type": "code",
   "execution_count": null,
   "metadata": {},
   "outputs": [],
   "source": [
    "!pip install -r YOLOv7-Car-Logo-Detection/requirements.txt"
   ]
  },
  {
   "attachments": {},
   "cell_type": "markdown",
   "metadata": {},
   "source": [
    "# Download the dataset from google drive"
   ]
  },
  {
   "cell_type": "code",
   "execution_count": null,
   "metadata": {},
   "outputs": [],
   "source": [
    "from google.colab import drive \n",
"drive.mount('/content/drive', force_remount=True)"
   ]
  },
{
   "cell_type": "code",
   "execution_count": null,
   "metadata": {},
   "outputs": [],
   "source": [
    "from zipfile import ZipFile"
   ]
  },
{
   "cell_type": "code",
   "execution_count": null,
   "metadata": {},
   "outputs": [],
   "source": [
    "with ZipFile('/content/drive/MyDrive/Car Logo Dataset V-3.zip', 'r') as TestZip: TestZip.extractall('YOLOv7-Car-Logo-Detection/Car Logo Dataset')"
   ]
  },
  
  {
   "attachments": {},
   "cell_type": "markdown",
   "metadata": {},
   "source": [
    "Then, split data into sets.Next, we need to partition the dataset into train, validation, and test sets. These will contain 80%, 10%, and 10% of the data, respectively."
   ]
  },
  {
   "cell_type": "code",
   "execution_count": null,
   "metadata": {},
   "outputs": [],
   "source": [
    "!python YOLOv7-Car-Logo-Dataset/prepare_data.py --dataset CarLogos"
   ]
  },
  {
   "attachments": {},
   "cell_type": "markdown",
   "metadata": {},
   "source": [
    "# Start training"
   ]
  },
  
  {
   "cell_type": "code",
   "execution_count": null,
   "metadata": {},
   "outputs": [],
   "source": [
    "!python YOLOv7-Car-Logo-Detection/yolov7/train.py --img-size 480 --cfg YOLOv7-Car-Logo-Detection/cfg/training/yolov7.yaml --hyp YOLOv7-Car-Logo-Detection/data/hyp.scratch.yaml --batch 5 --epoch 100 --data YOLOv7-Car-Logo-Detection/data/data.yaml --weights YOLOv7-Car-Logo-Detection/yolov7_training.pt --workers 2 --name yolo_logo_det --device 0"
   ]
  },
{
   "attachments": {},
   "cell_type": "markdown",
   "metadata": {},
   "source": [
    "# Detect test images"
   ]
  },
  
  {
   "cell_type": "code",
   "execution_count": null,
   "metadata": {},
   "outputs": [],
   "source": [
    "!python YOLOv7-Car-Logo-Detection/yolov7/detect.py --source YOLOv7-Car-Logo-Detection/data/Sample/test --weights runs/train/yolo_logo_det4/weights/best.pt --conf 0.25 --name yolo_logo_det"
   ]
  }
 ],
 "metadata": {
  "kernelspec": {
   "display_name": "env",
   "language": "python",
   "name": "python3"
  },
  "language_info": {
   "name": "python",
   "version": "3.10.6 (main, Nov 14 2022, 16:10:14) [GCC 11.3.0]"
  },
  "orig_nbformat": 4,
  "vscode": {
   "interpreter": {
    "hash": "d4e544488b3cc811f146854d12104db46b548b29e04f8518cda87e1d805757d9"
   }
  }
 },
 "nbformat": 4,
 "nbformat_minor": 2
}
