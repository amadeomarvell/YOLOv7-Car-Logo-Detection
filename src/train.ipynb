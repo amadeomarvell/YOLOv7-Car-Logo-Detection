{
 "cells": [
  {
   "attachments": {},
   "cell_type": "markdown",
   "metadata": {},
   "source": [
    "# Clone the repo\n",
    "Get the repo and submodules"
   ]
  },
  {
   "cell_type": "code",
   "execution_count": null,
   "metadata": {},
   "outputs": [],
   "source": [
    "!git clone https://github.com/amadeomarvell/YOLOv7-Car-Logo-Detection.git"
   ]
  },
{
   "attachments": {},
   "cell_type": "markdown",
   "metadata": {},
   "source": [
    "# Clone the repo\n",
    "Download submodules"
   ]
  },
  {
   "cell_type": "code",
   "execution_count": null,
   "metadata": {},
   "outputs": [],
   "source": [
    "%cd /content/YOLOv7-Car-Logo-Detection/src/yolov7/\n",
"!git submodule update --init"
   ]
  },
  {
   "attachments": {},
   "cell_type": "markdown",
   "metadata": {},
   "source": [
    "Install the necessary packages."
   ]
  },
  {
   "cell_type": "code",
   "execution_count": null,
   "metadata": {},
   "outputs": [],
   "source": [
    "!pip install -r /content/YOLOv7-Car-Logo-Detection/src/requirements.txt"
   ]
  },
  {
   "attachments": {},
   "cell_type": "markdown",
   "metadata": {},
   "source": [
    "# Download the dataset from google drive"
   ]
  },
  {
   "cell_type": "code",
   "execution_count": null,
   "metadata": {},
   "outputs": [],
   "source": [
    "from google.colab import drive \n",
"drive.mount('/content/drive', force_remount=True)"
   ]
  },
{
   "cell_type": "code",
   "execution_count": null,
   "metadata": {},
   "outputs": [],
   "source": [
    "from zipfile import ZipFile"
   ]
  },
{
   "cell_type": "code",
   "execution_count": null,
   "metadata": {},
   "outputs": [],
   "source": [
    "with ZipFile('/content/drive/MyDrive/Car Logo Dataset 27.zip', 'r') as TestZip: TestZip.extractall('/content/YOLOv7-Car-Logo-Detection/Car Logo Dataset 27')"
   ]
  },
  
  {
   "attachments": {},
   "cell_type": "markdown",
   "metadata": {},
   "source": [
    "Then, split data into sets.Next, we need to partition the dataset into train, validation, and test sets. These will contain 80%, 10%, and 10% of the data, respectively."
   ]
  },
  {
   "cell_type": "code",
   "execution_count": null,
   "metadata": {},
   "outputs": [],
   "source": [
    "!python /content/YOLOv7-Car-Logo-Detection/src/prepare_data.py --dataset CarLogos"
   ]
  },
  {
   "attachments": {},
   "cell_type": "markdown",
   "metadata": {},
   "source": [
    "# Start training"
   ]
  },
  
  {
   "cell_type": "code",
   "execution_count": null,
   "metadata": {},
   "outputs": [],
   "source": [
    "!python /content/YOLOv7-Car-Logo-Detection/src/yolov7/train.py --img-size 480 --cfg /content/YOLOv7-Car-Logo-Detection/src/cfg/training/yolov7.yaml --hyp /content/YOLOv7-Car-Logo-Detection/data/hyp.scratch.yaml --batch 4 --epoch 100 --data /content/YOLOv7-Car-Logo-Detection/data/data.yaml --weights /content/YOLOv7-Car-Logo-Detection/src/yolov7_training.pt --workers 2 --name yolo_logo_det --device 0"
   ]
  },
{
   "attachments": {},
   "cell_type": "markdown",
   "metadata": {},
   "source": [
    "# Detect test images"
   ]
  },
{
   "attachments": {},
   "cell_type": "markdown",
   "metadata": {},
   "source": [
    "Install requirements"
   ]
  },
  {
   "cell_type": "code",
   "execution_count": null,
   "metadata": {},
   "outputs": [],
   "source": [
    "!pip3 install -r /content/YOLOv7-Car-Logo--Detection/requirements.txt"
   ]
  },
{
   "attachments": {},
   "cell_type": "markdown",
   "metadata": {},
   "source": [
    "Detect license plates from test images"
   ]
  },
{
   "cell_type": "code",
   "execution_count": null,
   "metadata": {},
   "outputs": [],
   "source": [
    "import os\n",
    "import matplotlib.pyplot as plt\n",
    "import matplotlib.image as mpimg\n",
    "test_images_folder = '/content/YOLOv7-Car-Logo-Detection/data/images/test/'\n",
    "wpodnet_model_path = '/content/YOLOv7-Car-Logo-Detection/wpodnet.pth'\n",
    "annotated_folder = '/content/YOLOv7-Car-Logo-Detection/data/images/annotated/'\n",
    "warped_folder = '/content/YOLOv7-Car-Logo-Detection/data/images/warped/'\n",
    "os.makedirs(annotated_folder, exist_ok=True)\n",
    "os.makedirs(warped_folder, exist_ok=True)\n",
    "for filename in os.listdir(test_images_folder):\n",
    "    if filename.endswith('.jpg') or filename.endswith('.jpeg') or filename.endswith('.png'):\n",
    "        input_image_path = os.path.join(test_images_folder, filename)\n",
    "         command = f'python3 /content/WPODNet-Pytorch/predict.py {input_image_path} -w {wpodnet_model_path} --save-annotated {annotated_folder} --save-warped {warped_folder}'\n",
    "         os.system(command)\n",
    "         original_img = mpimg.imread(input_image_path)\n",
    "         annotated_img_path = os.path.join(annotated_folder, filename)\n",
    "         warped_img_path = os.path.join(warped_folder, filename)\n",
    "         annotated_img = mpimg.imread(annotated_img_path)\n",
    "         warped_img = mpimg.imread(warped_img_path)\n",
    "    # Show license plates\n",
    "         plt.subplot(1, 3, 1)\n",
    "         plt.imshow(original_img)\n",
    "         plt.title('Original Image')\n",
    "         plt.subplot(1, 3, 2)\n",
    "         plt.imshow(annotated_img)\n",
    "         plt.title('Annotated Image')\n",
    "         plt.subplot(1, 3, 3)\n",
    "         plt.imshow(warped_img)\n",
    "         plt.title('Warped Image')\n"
   ]
  },
  {
   "attachments": {},
   "cell_type": "markdown",
   "metadata": {},
   "source": [
    "Detect logos from test images"
   ]
  },
  {
   "cell_type": "code",
   "execution_count": null,
   "metadata": {},
   "outputs": [],
   "source": [
    "!python /content/YOLOv7-Car-Logo-Detection/src/yolov7/detect.py --source /content/YOLOv7-Car-Logo-Detection/data/images/annotated --weights /content/YOLOv7-Car-Logo-Detection/src/yolov7/runs/train/yolo_logo_det/weights/best.pt --conf 0.25 --name yolo_logo_det"
   ]
  },
 
{
   "attachments": {},
   "cell_type": "markdown",
   "metadata": {},
   "source": [
    "# Show all test images result"
   ]
  },
  
  {
   "cell_type": "code",
   "execution_count": null,
   "metadata": {},
   "outputs": [],
   "source": [
"from IPython.display import Image, display\n",
"import os\n",
"import shutil"
   ]
  },
{
   "cell_type": "code",
   "execution_count": null,
   "metadata": {},
   "outputs": [],
   "source": [
    "results_path = '/content/YOLOv7-Car-Logo-Detection/runs/detect/yolo_logo_det2'\n ",
    "warped_folder = '/content/YOLOv7-Car-Logo-Detection/data/images/warped/'\n ",
    "drive_folder = '/content/drive/MyDrive/YOLOv7_Car_Logo_Detection_Results'\n",
    "os.makedirs(drive_folder, exist_ok=True)\n",
    "for filename in os.listdir(results_path):\n",
    "    if filename.endswith('.jpg'):\n",
    "        source_path = os.path.join(results_path, filename)\n",
    "        destination_path = os.path.join(drive_folder, filename)\n",
    "        shutil.copyfile(source_path, destination_path)\n",
    "from IPython.display import Image, display\n",
    "for filename in os.listdir(results_path):\n",
    "    if filename.endswith('.jpg'):\n",
    "        image_path = os.path.join(results_path, filename)\n",
    "        warped_image_path = os.path.join(warped_folder, filename)\n",
    "        display(Image(filename=image_path), Image(filename=warped_image_path))"
   ]
  }
 ],
 "metadata": {
  "kernelspec": {
   "display_name": "env",
   "language": "python",
   "name": "python3"
  },
  "language_info": {
   "name": "python",
   "version": "3.10.6 (main, Nov 14 2022, 16:10:14) [GCC 11.3.0]"
  },
  "orig_nbformat": 4,
  "vscode": {
   "interpreter": {
    "hash": "d4e544488b3cc811f146854d12104db46b548b29e04f8518cda87e1d805757d9"
   }
  }
 },
 "nbformat": 4,
 "nbformat_minor": 2
}
